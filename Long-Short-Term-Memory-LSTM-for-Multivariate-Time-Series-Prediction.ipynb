{
 "cells": [
  {
   "cell_type": "markdown",
   "metadata": {},
   "source": [
    "# Long Short-Term Memory (LSTM) for Multivariate Time Series Prediction\n",
    "# Table of Contents\n",
    "  \n",
    "1. Intro\n",
    "2. 程式碼與說明\n",
    "3. 分析結果\n",
    "4. 初步結論\n",
    "\n",
    "## 1. Intro\n",
    "以下程式碼以Long Short-Term Memory (LSTM) 進行 Multivariate Time Series Prediction。  \n",
    "題目一(Q1)的目標是辨識漲跌的起始點，本研究先以過去120天的資料建立模型，預測下一天的漲跌或盤整，待確認模型預測準確度後，再嘗試延伸至更長的預測期間(例如:未來5天，10天，20天...)，進而達到辨識起始點的任務。  \n",
    "\n",
    "研究中選用了Q1資料集中data_x裡的49個features。而label則選用data_y中的TYPE，即hold, up, down。"
   ]
  },
  {
   "cell_type": "markdown",
   "metadata": {},
   "source": [
    "## 2. 程式碼與說明"
   ]
  },
  {
   "cell_type": "code",
   "execution_count": 1,
   "metadata": {},
   "outputs": [
    {
     "name": "stderr",
     "output_type": "stream",
     "text": [
      "Using TensorFlow backend.\n"
     ]
    }
   ],
   "source": [
    "from math import sqrt\n",
    "from numpy import concatenate\n",
    "from matplotlib import pyplot\n",
    "from datetime import datetime\n",
    "from pandas import read_csv\n",
    "from pandas import DataFrame\n",
    "from pandas import concat\n",
    "from sklearn.preprocessing import MinMaxScaler\n",
    "from sklearn.preprocessing import LabelEncoder\n",
    "from sklearn.metrics import mean_squared_error\n",
    "from keras.models import Sequential\n",
    "from keras.layers import Dense\n",
    "from keras.layers import LSTM\n",
    "from keras.layers import Dropout\n",
    "from keras.layers import Activation\n",
    "from keras.utils import np_utils"
   ]
  },
  {
   "cell_type": "markdown",
   "metadata": {},
   "source": [
    "### 讀取資料\n",
    "讀取資料並清除遺漏值。遺漏值的處理方式暫時以若當日資料中有缺漏的features，則將當日單筆資料移除。"
   ]
  },
  {
   "cell_type": "code",
   "execution_count": 2,
   "metadata": {},
   "outputs": [
    {
     "name": "stdout",
     "output_type": "stream",
     "text": [
      "                  o        h        l        c        v  PE_Ratio  PB_Ratio  \\\n",
      "date                                                                          \n",
      "2006-01-02  6457.61  6492.92  6424.03  6462.06  4697272      12.8      1.70   \n",
      "2006-01-03  6476.20  6591.77  6457.09  6591.77  5214136      13.0      1.73   \n",
      "2006-01-04  6658.32  6670.96  6579.66  6616.44  5910065      13.1      1.74   \n",
      "2006-01-05  6669.80  6717.12  6666.84  6709.87  5851695      13.3      1.76   \n",
      "2006-01-06  6757.41  6761.01  6676.65  6694.82  5904757      13.2      1.76   \n",
      "\n",
      "            Turnover     60MA  30D_MA_slope     ...        Down  Conti Count  \\\n",
      "date                                            ...                            \n",
      "2006-01-02      0.75  6105.40          4.39     ...      0.0059      1  None   \n",
      "2006-01-03      0.97  6114.15          4.68     ...      0.0206      2  None   \n",
      "2006-01-04      1.14  6124.63          4.99     ...      0.0056      1    2R   \n",
      "2006-01-05      1.03  6137.13          5.32     ...      0.0064      1  None   \n",
      "2006-01-06      1.06  6149.22          5.67     ...      0.0027      1  None   \n",
      "\n",
      "                                    K_Pattern Bullish_Hammer  \\\n",
      "date                                                           \n",
      "2006-01-02    red_lower_shadows>upper_shadows              0   \n",
      "2006-01-03    red_lower_shadows>upper_shadows              1   \n",
      "2006-01-04  black_lower_shadows>upper_shadows              0   \n",
      "2006-01-05   red_upper_shadows>_lower_shadows              0   \n",
      "2006-01-06  black_lower_shadows>upper_shadows              0   \n",
      "\n",
      "            Bullish_BeltHold  cross  inverted_Hammer  TYPE       TYPE2  \n",
      "date                                                                    \n",
      "2006-01-02                 0      0                0  hold  hold_start  \n",
      "2006-01-03                 0      0                0  hold        hold  \n",
      "2006-01-04                 0      0                0  hold        hold  \n",
      "2006-01-05                 1      0                0  hold        hold  \n",
      "2006-01-06                 0      0                0  hold        hold  \n",
      "\n",
      "[5 rows x 52 columns]\n"
     ]
    }
   ],
   "source": [
    "# load data\n",
    "def parse(x):\n",
    "    return datetime.strptime(x, '%Y%m%d')\n",
    "\n",
    "dataset = read_csv('raw.csv',  parse_dates = ['date'], index_col=0, date_parser=parse)\n",
    "dataset = dataset.iloc[:,:-4]\n",
    "dataset.dropna()\n",
    "# summarize first 5 rows\n",
    "print(dataset.head(5))\n",
    "# print(dataset.tail(5))\n",
    "# # save to file\n",
    "# dataset.to_csv('Q1_dataset.csv')"
   ]
  },
  {
   "cell_type": "markdown",
   "metadata": {},
   "source": [
    "### 資料前處理\n",
    "data_x的features有些單位為百分比，故需要轉換單位。接著需要為非數值型的資料編碼，使其成為類別型資料。下列用Counter以數字列出各個feature轉換後的類別。完成後即可對資料進行標準化，以MinMaxScaler作為標準化的方式。"
   ]
  },
  {
   "cell_type": "code",
   "execution_count": 3,
   "metadata": {},
   "outputs": [
    {
     "name": "stdout",
     "output_type": "stream",
     "text": [
      "MA_ slope:\n",
      "Counter({'Z+0D': 853, 'Z+0.5D': 838, 'Z-0D': 393, 'Z-1.5D': 252, 'Z+1D': 242, 'Z-0.5D': 217, 'Z+1.5D': 113, 'Z-1D': 95})\n",
      "Counter({1: 853, 0: 838, 5: 393, 6: 252, 3: 242, 4: 217, 2: 113, 7: 95})\n",
      "bias:\n",
      "Counter({'Z+0D': 945, 'Z+0.5D': 686, 'Z-0D': 494, 'Z-0.5D': 275, 'Z-1.5D': 183, 'Z+1D': 172, 'Z-1D': 143, 'Z+1.5D': 105})\n",
      "Counter({1: 945, 0: 686, 5: 494, 4: 275, 6: 183, 3: 172, 7: 143, 2: 105})\n",
      "CP_slpoe:\n",
      "Counter({'Z+0D': 733, 'Z+0.5D': 663, 'Z-0D': 447, 'Z-0.5D': 336, 'Z+1D': 242, 'Z-1.5D': 214, 'Z-1D': 188, 'Z+1.5D': 180})\n",
      "Counter({1: 733, 0: 663, 5: 447, 4: 336, 3: 242, 6: 214, 7: 188, 2: 180})\n",
      "Count:\n",
      "Counter({'None': 2246, '2R': 207, '2B': 204, '3B': 97, '3R': 77, '4B': 62, '4R': 33, '5B': 20, '6B': 14, '5R': 12, '6R': 9, '7R': 7, '7B': 6, '8B': 3, '8R': 3, '14B': 1, '9R': 1, '11B': 1})\n",
      "Counter({17: 2246, 3: 207, 2: 204, 4: 97, 5: 77, 6: 62, 7: 33, 8: 20, 10: 14, 9: 12, 11: 9, 13: 7, 12: 6, 14: 3, 15: 3, 1: 1, 16: 1, 0: 1})\n",
      "K_pattern:\n",
      "Counter({'red_lower_shadows>upper_shadows': 831, 'black_lower_shadows>upper_shadows': 669, 'red_upper_shadows>_lower_shadows': 576, 'black_upper_shadows>_lower_shadows': 499, 'black_without_upper_shadows': 237, 'black_without_lower_shadows': 191})\n",
      "Counter({4: 831, 0: 669, 5: 576, 1: 499, 3: 237, 2: 191})\n",
      "TYPE:\n",
      "Counter({'up': 1553, 'down': 767, 'hold': 683})\n",
      "Counter({2: 1553, 0: 767, 1: 683})\n",
      "TYPE2:\n",
      "Counter({'up': 1421, 'down': 649, 'hold': 615, 'up_start': 66, 'up_end': 66, 'down_start': 59, 'down_end': 59, 'hold_start': 34, 'hold_end': 34})\n",
      "Counter({6: 1421, 0: 649, 3: 615, 8: 66, 7: 66, 2: 59, 1: 59, 5: 34, 4: 34})\n"
     ]
    }
   ],
   "source": [
    "values = dataset.values\n",
    "# convert ratio to decimal form\n",
    "ratio_group=[5,6,7,22,23,24,25]\n",
    "for i in range(len(ratio_group)):\n",
    "    values[:,ratio_group[i]] = values[:,ratio_group[i]]/100\n",
    "\n",
    "# integer encode categories\n",
    "# 12:MA_slope, 13:bias, 14:CP_slope, 44:Count, 45:K_pattern, 50:Type\n",
    "ctgs_group=[12,13,14,44,45,50,51] \n",
    "encoder = LabelEncoder()\n",
    "for i in range(len(ctgs_group)):\n",
    "    values[:,ctgs_group[i]]=encoder.fit_transform(values[:,ctgs_group[i]])\n",
    "\n",
    "# features category description\n",
    "from collections import Counter\n",
    "columns_name=['MA_ slope','bias','CP_slpoe','Count','K_pattern','TYPE','TYPE2']\n",
    "for i in range(len(ctgs_group)):\n",
    "    print(columns_name[i]+':')\n",
    "    print(Counter(dataset.values[:,ctgs_group[i]]))\n",
    "    print(Counter(values[:,ctgs_group[i]]))\n",
    "\n",
    "    \n",
    "# ensure all data is float\n",
    "values = values.astype('float32')\n",
    "\n",
    "# normalize features\n",
    "scaler = MinMaxScaler(feature_range=(0, 1))\n",
    "scaled = scaler.fit_transform(values[:,:49])\n",
    "\n",
    "# prepare y_label\n",
    "y_label = values[:,-2]\n",
    "# one-hot encoding\n",
    "y_label_onehot = np_utils.to_categorical(y_label)"
   ]
  },
  {
   "cell_type": "markdown",
   "metadata": {},
   "source": [
    "### One-Hot Encoding\n",
    "data_y中的TYPE除了轉換為類別變數外，還需要one-hot encoding。"
   ]
  },
  {
   "cell_type": "code",
   "execution_count": 4,
   "metadata": {},
   "outputs": [
    {
     "name": "stdout",
     "output_type": "stream",
     "text": [
      "1.0\n",
      "[ 0.  1.  0.]\n"
     ]
    }
   ],
   "source": [
    "# prepare y_label\n",
    "y_label = values[:,-2]\n",
    "# one-hot encoding\n",
    "y_label_onehot = np_utils.to_categorical(y_label)\n",
    "\n",
    "\n",
    "print(y_label[0])\n",
    "print(y_label_onehot[0])"
   ]
  },
  {
   "cell_type": "code",
   "execution_count": 5,
   "metadata": {},
   "outputs": [],
   "source": [
    "# Save the reframed dataset\n",
    "# DataFrame(values,index=dataset.index,columns=dataset.columns).to_csv('Q1_dataset.csv')"
   ]
  },
  {
   "cell_type": "markdown",
   "metadata": {},
   "source": [
    "### 監督式學習資料集\n",
    "前面完成資料前處理後，我們進一步將資料集轉為可進行監督式學習的資料集，並將其分割為訓練集與測試集。"
   ]
  },
  {
   "cell_type": "code",
   "execution_count": 6,
   "metadata": {},
   "outputs": [],
   "source": [
    "# convert series to supervised learning\n",
    "def series_to_supervised(data, n_in=1, n_out=1, dropnan=True):\n",
    "    n_vars = 1 if type(data) is list else data.shape[1]\n",
    "    df = DataFrame(data)\n",
    "    cols, names = list(), list()\n",
    "    # input sequence (t-n, ... t-1)\n",
    "    for i in range(n_in, 0, -1):\n",
    "        cols.append(df.shift(i))\n",
    "        names += [('var%d(t-%d)' % (j+1, i)) for j in range(n_vars)]\n",
    "#     # forecast sequence (t, t+1, ... t+n)\n",
    "#     for i in range(0, n_out):\n",
    "#         cols.append(df.shift(-i))\n",
    "#         if i == 0:\n",
    "#             names += [('var%d(t)' % (j+1)) for j in range(n_vars)]\n",
    "#         else:\n",
    "#             names += [('var%d(t+%d)' % (j+1, i)) for j in range(n_vars)]\n",
    "    # put it all together\n",
    "    agg = concat(cols, axis=1)\n",
    "    agg.columns = names\n",
    "    # drop rows with NaN values\n",
    "    if dropnan:\n",
    "        agg.dropna(inplace=True)\n",
    "    return agg"
   ]
  },
  {
   "cell_type": "code",
   "execution_count": 7,
   "metadata": {
    "scrolled": true
   },
   "outputs": [
    {
     "name": "stdout",
     "output_type": "stream",
     "text": [
      "(3003, 49)\n",
      "(2883, 5880)\n",
      "(3003, 3)\n"
     ]
    }
   ],
   "source": [
    "# specify the number of lag days\n",
    "n_lag = 120\n",
    "n_out = 1\n",
    "\n",
    "print(scaled.shape)\n",
    "# frame as supervised learning\n",
    "reframed = series_to_supervised(scaled, n_lag, n_out)\n",
    "print(reframed.shape)\n",
    "# reframed.to_csv('reframe.csv')\n",
    "print(y_label_onehot.shape)"
   ]
  },
  {
   "cell_type": "code",
   "execution_count": 8,
   "metadata": {},
   "outputs": [
    {
     "name": "stdout",
     "output_type": "stream",
     "text": [
      "(1000, 5880) 1000 (1000, 3)\n",
      "(1000, 120, 49) (1000, 3) (250, 120, 49) (250, 3)\n"
     ]
    }
   ],
   "source": [
    "# split into train and test sets\n",
    "values = reframed.values\n",
    "n_train = 1000\n",
    "n_test = 250\n",
    "n_features = 49\n",
    "train = values[-n_train-n_test:-n_test, :]\n",
    "test = values[-n_test:, :]\n",
    "# # split into input and outputs\n",
    "# n_obs = n_lag * n_features\n",
    "# train_X = train[:, :n_obs]\n",
    "# test_X = test[:, :n_obs]\n",
    "train_X = values[-n_train-n_test:-n_test, :]\n",
    "test_X = values[-n_test:, :]\n",
    "\n",
    "train_y = y_label_onehot[-n_train-n_test:-n_test, :]\n",
    "test_y = y_label_onehot[-n_test:, :]\n",
    "print(train_X.shape, len(train_X), train_y.shape)\n",
    "\n",
    "# reshape input to be 3D [samples, timesteps, features]\n",
    "train_X = train_X.reshape((train_X.shape[0], n_lag, n_features))\n",
    "test_X = test_X.reshape((test_X.shape[0], n_lag, n_features))\n",
    "print(train_X.shape, train_y.shape, test_X.shape, test_y.shape)"
   ]
  },
  {
   "cell_type": "markdown",
   "metadata": {},
   "source": [
    "### 建立模型\n",
    "模型設定如下。"
   ]
  },
  {
   "cell_type": "code",
   "execution_count": 9,
   "metadata": {
    "scrolled": false
   },
   "outputs": [
    {
     "name": "stdout",
     "output_type": "stream",
     "text": [
      "Train on 1000 samples, validate on 250 samples\n",
      "Epoch 1/50\n",
      " - 11s - loss: 1.6416 - acc: 0.2630 - val_loss: 1.1500 - val_acc: 0.3000\n",
      "Epoch 2/50\n",
      " - 9s - loss: 1.1915 - acc: 0.4020 - val_loss: 1.2138 - val_acc: 0.4200\n",
      "Epoch 3/50\n",
      " - 9s - loss: 1.0819 - acc: 0.5060 - val_loss: 1.0890 - val_acc: 0.4200\n",
      "Epoch 4/50\n",
      " - 9s - loss: 1.0763 - acc: 0.4500 - val_loss: 1.0892 - val_acc: 0.4200\n",
      "Epoch 5/50\n",
      " - 8s - loss: 1.0630 - acc: 0.4750 - val_loss: 1.1169 - val_acc: 0.4200\n",
      "Epoch 6/50\n",
      " - 9s - loss: 1.0462 - acc: 0.5060 - val_loss: 1.1384 - val_acc: 0.4200\n",
      "Epoch 7/50\n",
      " - 8s - loss: 1.0581 - acc: 0.5050 - val_loss: 1.1314 - val_acc: 0.4200\n",
      "Epoch 8/50\n",
      " - 9s - loss: 1.0315 - acc: 0.5210 - val_loss: 1.1142 - val_acc: 0.4200\n",
      "Epoch 9/50\n",
      " - 9s - loss: 1.0416 - acc: 0.5180 - val_loss: 1.1028 - val_acc: 0.4200\n",
      "Epoch 10/50\n",
      " - 9s - loss: 1.0363 - acc: 0.5150 - val_loss: 1.0984 - val_acc: 0.4200\n",
      "Epoch 11/50\n",
      " - 9s - loss: 1.0319 - acc: 0.5240 - val_loss: 1.1029 - val_acc: 0.4200\n",
      "Epoch 12/50\n",
      " - 9s - loss: 1.0242 - acc: 0.5220 - val_loss: 1.1085 - val_acc: 0.4200\n",
      "Epoch 13/50\n",
      " - 8s - loss: 1.0303 - acc: 0.5230 - val_loss: 1.1098 - val_acc: 0.4200\n",
      "Epoch 14/50\n",
      " - 8s - loss: 1.0230 - acc: 0.5210 - val_loss: 1.1067 - val_acc: 0.4200\n",
      "Epoch 15/50\n",
      " - 8s - loss: 1.0297 - acc: 0.5230 - val_loss: 1.1029 - val_acc: 0.4200\n",
      "Epoch 16/50\n",
      " - 8s - loss: 1.0165 - acc: 0.5190 - val_loss: 1.1035 - val_acc: 0.4200\n",
      "Epoch 17/50\n",
      " - 8s - loss: 1.0219 - acc: 0.5200 - val_loss: 1.1046 - val_acc: 0.4200\n",
      "Epoch 18/50\n",
      " - 8s - loss: 1.0172 - acc: 0.5240 - val_loss: 1.1008 - val_acc: 0.4200\n",
      "Epoch 19/50\n",
      " - 8s - loss: 1.0092 - acc: 0.5210 - val_loss: 1.1001 - val_acc: 0.4200\n",
      "Epoch 20/50\n",
      " - 8s - loss: 1.0117 - acc: 0.5240 - val_loss: 1.0987 - val_acc: 0.4200\n",
      "Epoch 21/50\n",
      " - 8s - loss: 1.0073 - acc: 0.5280 - val_loss: 1.0997 - val_acc: 0.4200\n",
      "Epoch 22/50\n",
      " - 8s - loss: 1.0035 - acc: 0.5260 - val_loss: 1.0963 - val_acc: 0.4200\n",
      "Epoch 23/50\n",
      " - 8s - loss: 0.9847 - acc: 0.5410 - val_loss: 1.1012 - val_acc: 0.3240\n",
      "Epoch 24/50\n",
      " - 8s - loss: 0.9957 - acc: 0.5330 - val_loss: 1.0984 - val_acc: 0.3360\n",
      "Epoch 25/50\n",
      " - 8s - loss: 0.9739 - acc: 0.5500 - val_loss: 1.0929 - val_acc: 0.3320\n",
      "Epoch 26/50\n",
      " - 8s - loss: 0.9705 - acc: 0.5490 - val_loss: 1.1085 - val_acc: 0.3600\n",
      "Epoch 27/50\n",
      " - 8s - loss: 0.9587 - acc: 0.5680 - val_loss: 1.0868 - val_acc: 0.3600\n",
      "Epoch 28/50\n",
      " - 8s - loss: 0.9316 - acc: 0.5840 - val_loss: 1.1092 - val_acc: 0.3560\n",
      "Epoch 29/50\n",
      " - 8s - loss: 0.9481 - acc: 0.5790 - val_loss: 1.0960 - val_acc: 0.3680\n",
      "Epoch 30/50\n",
      " - 8s - loss: 0.9396 - acc: 0.5720 - val_loss: 1.0892 - val_acc: 0.3720\n",
      "Epoch 31/50\n",
      " - 8s - loss: 0.9037 - acc: 0.5970 - val_loss: 1.1352 - val_acc: 0.3480\n",
      "Epoch 32/50\n",
      " - 8s - loss: 0.9448 - acc: 0.5650 - val_loss: 1.1058 - val_acc: 0.3760\n",
      "Epoch 33/50\n",
      " - 8s - loss: 0.9404 - acc: 0.5550 - val_loss: 1.0681 - val_acc: 0.3800\n",
      "Epoch 34/50\n",
      " - 8s - loss: 0.9405 - acc: 0.5560 - val_loss: 1.0861 - val_acc: 0.3840\n",
      "Epoch 35/50\n",
      " - 8s - loss: 0.9109 - acc: 0.5860 - val_loss: 1.0888 - val_acc: 0.3880\n",
      "Epoch 36/50\n",
      " - 8s - loss: 0.9050 - acc: 0.5810 - val_loss: 1.0685 - val_acc: 0.3920\n",
      "Epoch 37/50\n",
      " - 8s - loss: 0.8804 - acc: 0.5870 - val_loss: 1.0584 - val_acc: 0.4040\n",
      "Epoch 38/50\n",
      " - 8s - loss: 0.8923 - acc: 0.5970 - val_loss: 1.0749 - val_acc: 0.3760\n",
      "Epoch 39/50\n",
      " - 8s - loss: 0.8781 - acc: 0.5830 - val_loss: 1.0576 - val_acc: 0.4080\n",
      "Epoch 40/50\n",
      " - 8s - loss: 0.8429 - acc: 0.6270 - val_loss: 1.1037 - val_acc: 0.3840\n",
      "Epoch 41/50\n",
      " - 8s - loss: 0.8612 - acc: 0.6180 - val_loss: 1.0989 - val_acc: 0.3920\n",
      "Epoch 42/50\n",
      " - 8s - loss: 0.9256 - acc: 0.5980 - val_loss: 1.1158 - val_acc: 0.5240\n",
      "Epoch 43/50\n",
      " - 8s - loss: 0.8980 - acc: 0.6010 - val_loss: 1.0161 - val_acc: 0.5120\n",
      "Epoch 44/50\n",
      " - 8s - loss: 0.9319 - acc: 0.5580 - val_loss: 1.0528 - val_acc: 0.3880\n",
      "Epoch 45/50\n",
      " - 8s - loss: 0.8831 - acc: 0.5970 - val_loss: 1.0943 - val_acc: 0.3600\n",
      "Epoch 46/50\n",
      " - 8s - loss: 0.8855 - acc: 0.5950 - val_loss: 1.1156 - val_acc: 0.3760\n",
      "Epoch 47/50\n",
      " - 8s - loss: 0.8590 - acc: 0.6160 - val_loss: 1.0571 - val_acc: 0.3720\n",
      "Epoch 48/50\n",
      " - 8s - loss: 0.8764 - acc: 0.6050 - val_loss: 1.0403 - val_acc: 0.4120\n",
      "Epoch 49/50\n",
      " - 8s - loss: 0.8428 - acc: 0.6240 - val_loss: 1.1195 - val_acc: 0.3760\n",
      "Epoch 50/50\n",
      " - 8s - loss: 0.8552 - acc: 0.6020 - val_loss: 1.0408 - val_acc: 0.4400\n"
     ]
    },
    {
     "data": {
      "image/png": "[encoded data removed]",
      "text/plain": [
       "<matplotlib.figure.Figure at 0x236802af898>"
      ]
     },
     "metadata": {},
     "output_type": "display_data"
    },
    {
     "data": {
      "image/png": "[encoded data removed]",
      "text/plain": [
       "<matplotlib.figure.Figure at 0x236828a6438>"
      ]
     },
     "metadata": {},
     "output_type": "display_data"
    }
   ],
   "source": [
    "# design network\n",
    "model = Sequential()\n",
    "model.add(LSTM(1000, batch_input_shape=(250, train_X.shape[1], train_X.shape[2]), stateful=True))\n",
    "model.add(Dropout(0.4))\n",
    "# model.add(LSTM(250, batch_input_shape=(250, train_X.shape[1], train_X.shape[2]), stateful=True))\n",
    "# model.add(Dropout(0.4))\n",
    "model.add(Dense(units=50, activation='sigmoid'))\n",
    "model.add(Dropout(0.4))\n",
    "model.add(Dense(3))\n",
    "model.add(Activation('softmax'))\n",
    "model.compile(loss='categorical_crossentropy', optimizer='adam', metrics=['accuracy'])\n",
    "# fit network\n",
    "history = model.fit(train_X, train_y, epochs=50, batch_size=250, validation_data=(test_X, test_y), verbose=2, shuffle=False)\n",
    "\n",
    "# plot history\n",
    "pyplot.figure(figsize=(14, 8))\n",
    "pyplot.plot(history.history['loss'], label='train')\n",
    "pyplot.plot(history.history['val_loss'], label='test')\n",
    "pyplot.legend()\n",
    "pyplot.show()\n",
    "\n",
    "# plot history\n",
    "pyplot.figure(figsize=(14, 8))\n",
    "pyplot.plot(history.history['acc'], label='train')\n",
    "pyplot.plot(history.history['val_acc'], label='test')\n",
    "pyplot.legend()\n",
    "pyplot.show()"
   ]
  },
  {
   "cell_type": "markdown",
   "metadata": {},
   "source": [
    "### 儲存模型\n",
    "將訓練完成的模型儲存至working directory。"
   ]
  },
  {
   "cell_type": "code",
   "execution_count": 10,
   "metadata": {},
   "outputs": [
    {
     "name": "stdout",
     "output_type": "stream",
     "text": [
      "CurrentWorkingDirectory:  D:\\ipython\\Yuanta Funds\\AI_Project\n",
      "Saved model to disk\n"
     ]
    }
   ],
   "source": [
    "import os\n",
    "from keras.models import model_from_json\n",
    "\n",
    "#import os\n",
    "sCurrentWorkingDirectory = os.getcwd()\n",
    "print('CurrentWorkingDirectory: ', sCurrentWorkingDirectory)\n",
    "sDir = sCurrentWorkingDirectory\n",
    "\n",
    "outputfilename = 'yuanta_Q1'\n",
    "\n",
    "# serialize model to JSON\n",
    "model_json = model.to_json()\n",
    "with open(outputfilename+\"_model.json\", \"w\") as json_file:\n",
    "    json_file.write(model_json)\n",
    "# serialize weights to HDF5\n",
    "model.save_weights(outputfilename+\"_model\" + \".h5\")\n",
    "print(\"Saved model to disk\")\n"
   ]
  },
  {
   "cell_type": "markdown",
   "metadata": {},
   "source": [
    "### 讀取儲存的模型"
   ]
  },
  {
   "cell_type": "code",
   "execution_count": 11,
   "metadata": {},
   "outputs": [],
   "source": [
    "# # load json and create model\n",
    "# json_file = open(outputfilename+'_model.json', 'r')\n",
    "# loaded_model_json = json_file.read()\n",
    "# json_file.close()\n",
    "# model = model_from_json(loaded_model_json)\n",
    "# # load weights into new model\n",
    "# model.load_weights(outputfilename+'_model.h5')\n",
    "# print(\"Loaded model from disk\")\n",
    "\n",
    "# # compile network\n",
    "# model = Sequential()\n",
    "# model.add(LSTM(1000, batch_input_shape=(250, train_X.shape[1], train_X.shape[2]), stateful=True))\n",
    "# model.add(Dropout(0.4))\n",
    "# model.add(Dense(units=50, activation='sigmoid'))\n",
    "# model.add(Dropout(0.4))\n",
    "# model.add(Dense(3))\n",
    "# model.add(Activation('softmax'))\n",
    "# model.compile(loss='categorical_crossentropy', optimizer='adam', metrics=['accuracy'])"
   ]
  },
  {
   "cell_type": "markdown",
   "metadata": {},
   "source": [
    "### 模型摘要"
   ]
  },
  {
   "cell_type": "code",
   "execution_count": 12,
   "metadata": {},
   "outputs": [
    {
     "name": "stdout",
     "output_type": "stream",
     "text": [
      "_________________________________________________________________\n",
      "Layer (type)                 Output Shape              Param #   \n",
      "=================================================================\n",
      "lstm_1 (LSTM)                (250, 1000)               4200000   \n",
      "_________________________________________________________________\n",
      "dropout_1 (Dropout)          (250, 1000)               0         \n",
      "_________________________________________________________________\n",
      "dense_1 (Dense)              (250, 50)                 50050     \n",
      "_________________________________________________________________\n",
      "dropout_2 (Dropout)          (250, 50)                 0         \n",
      "_________________________________________________________________\n",
      "dense_2 (Dense)              (250, 3)                  153       \n",
      "_________________________________________________________________\n",
      "activation_1 (Activation)    (250, 3)                  0         \n",
      "=================================================================\n",
      "Total params: 4,250,203\n",
      "Trainable params: 4,250,203\n",
      "Non-trainable params: 0\n",
      "_________________________________________________________________\n"
     ]
    }
   ],
   "source": [
    "model.summary()"
   ]
  },
  {
   "cell_type": "markdown",
   "metadata": {},
   "source": [
    "## 3. 分析結果\n",
    "### 模型準確度"
   ]
  },
  {
   "cell_type": "code",
   "execution_count": 13,
   "metadata": {},
   "outputs": [
    {
     "data": {
      "text/plain": [
       "0.43999999761581421"
      ]
     },
     "execution_count": 13,
     "metadata": {},
     "output_type": "execute_result"
    }
   ],
   "source": [
    "# model accuracy\n",
    "scores = model.evaluate(test_X,test_y, batch_size=250, verbose=0)\n",
    "scores[1]"
   ]
  },
  {
   "cell_type": "markdown",
   "metadata": {},
   "source": [
    "雖然隨著訓練次數(epoch)，測試資料集的準確度開始上升，但目前模型的設定預測能力不佳，準確度只達到接近44%，需考慮進行更多的參數調整與模型設定。"
   ]
  },
  {
   "cell_type": "markdown",
   "metadata": {},
   "source": [
    "### 模型預測\n",
    "使用訓練好的模型對測試資料集進行預測。"
   ]
  },
  {
   "cell_type": "code",
   "execution_count": 15,
   "metadata": {},
   "outputs": [
    {
     "name": "stdout",
     "output_type": "stream",
     "text": [
      "True Label:  {2: 'up', 0: 'down', 1: 'hold'}\n"
     ]
    }
   ],
   "source": [
    "# lable dictionary\n",
    "label_dict={2:'up', 0:'down', 1:'hold'}\n",
    "print('True Label: ',label_dict)\n",
    "\n",
    "# make a probability prediction\n",
    "yhat = model.predict(test_X,batch_size=250)\n",
    "# class prediction\n",
    "prediction=model.predict_classes(test_X,batch_size=250)"
   ]
  },
  {
   "cell_type": "markdown",
   "metadata": {},
   "source": [
    "#### 顯示其中一天的預測值與機率"
   ]
  },
  {
   "cell_type": "code",
   "execution_count": 22,
   "metadata": {},
   "outputs": [
    {
     "name": "stdout",
     "output_type": "stream",
     "text": [
      "label: down \n",
      "predict: down \n",
      "\n",
      "down Probability: 0.411578983\n",
      "hold Probability: 0.293829978\n",
      "up Probability: 0.294590950\n"
     ]
    }
   ],
   "source": [
    "# show prediction probability\n",
    "def show_predicted_Probability(y_label,prediction,yhat,i):\n",
    "    print('label:',label_dict[y_label[i][0]],'\\n' \n",
    "          'predict:',label_dict[prediction[i]],'\\n')\n",
    "    for j in range(3):\n",
    "        print(label_dict[j]+' Probability: %1.9f'%(yhat[i][j]))\n",
    "\n",
    "show_predicted_Probability(test_y,prediction,yhat,210)"
   ]
  },
  {
   "cell_type": "markdown",
   "metadata": {},
   "source": [
    "### Confusion Matrix"
   ]
  },
  {
   "cell_type": "code",
   "execution_count": 17,
   "metadata": {},
   "outputs": [
    {
     "name": "stdout",
     "output_type": "stream",
     "text": [
      "{2: 'up', 0: 'down', 1: 'hold'}\n"
     ]
    },
    {
     "data": {
      "text/html": [
       "<div>\n",
       "<style scoped>\n",
       "    .dataframe tbody tr th:only-of-type {\n",
       "        vertical-align: middle;\n",
       "    }\n",
       "\n",
       "    .dataframe tbody tr th {\n",
       "        vertical-align: top;\n",
       "    }\n",
       "\n",
       "    .dataframe thead th {\n",
       "        text-align: right;\n",
       "    }\n",
       "</style>\n",
       "<table border=\"1\" class=\"dataframe\">\n",
       "  <thead>\n",
       "    <tr style=\"text-align: right;\">\n",
       "      <th>predict</th>\n",
       "      <th>0</th>\n",
       "      <th>1</th>\n",
       "      <th>2</th>\n",
       "    </tr>\n",
       "    <tr>\n",
       "      <th>label</th>\n",
       "      <th></th>\n",
       "      <th></th>\n",
       "      <th></th>\n",
       "    </tr>\n",
       "  </thead>\n",
       "  <tbody>\n",
       "    <tr>\n",
       "      <th>0.0</th>\n",
       "      <td>31</td>\n",
       "      <td>1</td>\n",
       "      <td>14</td>\n",
       "    </tr>\n",
       "    <tr>\n",
       "      <th>1.0</th>\n",
       "      <td>46</td>\n",
       "      <td>13</td>\n",
       "      <td>40</td>\n",
       "    </tr>\n",
       "    <tr>\n",
       "      <th>2.0</th>\n",
       "      <td>36</td>\n",
       "      <td>3</td>\n",
       "      <td>66</td>\n",
       "    </tr>\n",
       "  </tbody>\n",
       "</table>\n",
       "</div>"
      ],
      "text/plain": [
       "predict   0   1   2\n",
       "label              \n",
       "0.0      31   1  14\n",
       "1.0      46  13  40\n",
       "2.0      36   3  66"
      ]
     },
     "execution_count": 17,
     "metadata": {},
     "output_type": "execute_result"
    }
   ],
   "source": [
    "# confusion matrix\n",
    "import pandas as pd\n",
    "print(label_dict)\n",
    "pd.crosstab(y_label[-250:],prediction,rownames=['label'],colnames=['predict'])"
   ]
  },
  {
   "cell_type": "markdown",
   "metadata": {},
   "source": [
    "從混淆矩陣中可以看出，目前的模型在預測結果上仍偏重預測下跌。"
   ]
  },
  {
   "cell_type": "markdown",
   "metadata": {},
   "source": [
    "#### 清理Session並釋放資源"
   ]
  },
  {
   "cell_type": "code",
   "execution_count": 23,
   "metadata": {},
   "outputs": [],
   "source": [
    "# clear session to release resource\n",
    "from keras import backend as K\n",
    "K.clear_session()"
   ]
  },
  {
   "cell_type": "markdown",
   "metadata": {},
   "source": [
    "## 4. 初步結論\n",
    "評估結果，受限於目前使用的硬體，故只能採用較簡單的模型設定，導致目前的模型預測能力不佳。為了提高預測準確度，需考慮調整參數與模型設定，例如增加訓練epochs以及加深類神經模型的深度。  \n",
    "\n",
    "\n",
    "對於股市漲點起始點的辨識，需要進一步定義何謂起始點與結束點，轉換為機器能理解的標籤。"
   ]
  },
  {
   "cell_type": "code",
   "execution_count": null,
   "metadata": {},
   "outputs": [],
   "source": []
  }
 ],
 "metadata": {
  "kernelspec": {
   "display_name": "Python 3",
   "language": "python",
   "name": "python3"
  },
  "language_info": {
   "codemirror_mode": {
    "name": "ipython",
    "version": 3
   },
   "file_extension": ".py",
   "mimetype": "text/x-python",
   "name": "python",
   "nbconvert_exporter": "python",
   "pygments_lexer": "ipython3",
   "version": "3.5.6"
  }
 },
 "nbformat": 4,
 "nbformat_minor": 2
}
